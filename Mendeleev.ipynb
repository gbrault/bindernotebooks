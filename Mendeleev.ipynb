{
 "cells": [
  {
   "cell_type": "code",
   "execution_count": 4,
   "metadata": {
    "scrolled": false
   },
   "outputs": [
    {
     "name": "stdout",
     "output_type": "stream",
     "text": [
      "Requirement already satisfied: mendeleev in /srv/conda/envs/notebook/lib/python3.7/site-packages (0.4.5)\n",
      "Requirement already satisfied: numpy in /srv/conda/envs/notebook/lib/python3.7/site-packages (from mendeleev) (1.16.4)\n",
      "Requirement already satisfied: colorama in /srv/conda/envs/notebook/lib/python3.7/site-packages (from mendeleev) (0.4.1)\n",
      "Requirement already satisfied: sqlalchemy in /srv/conda/envs/notebook/lib/python3.7/site-packages (from mendeleev) (1.3.4)\n",
      "Requirement already satisfied: pyfiglet in /srv/conda/envs/notebook/lib/python3.7/site-packages (from mendeleev) (0.8.post1)\n",
      "Requirement already satisfied: pandas in /srv/conda/envs/notebook/lib/python3.7/site-packages (from mendeleev) (0.24.2)\n",
      "Requirement already satisfied: python-dateutil>=2.5.0 in /srv/conda/envs/notebook/lib/python3.7/site-packages (from pandas->mendeleev) (2.8.0)\n",
      "Requirement already satisfied: pytz>=2011k in /srv/conda/envs/notebook/lib/python3.7/site-packages (from pandas->mendeleev) (2019.1)\n",
      "Requirement already satisfied: six>=1.5 in /srv/conda/envs/notebook/lib/python3.7/site-packages (from python-dateutil>=2.5.0->pandas->mendeleev) (1.12.0)\n"
     ]
    }
   ],
   "source": [
    "! pip install mendeleev"
   ]
  },
  {
   "cell_type": "code",
   "execution_count": 3,
   "metadata": {},
   "outputs": [
    {
     "name": "stdout",
     "output_type": "stream",
     "text": [
      "Si's name:  Silicon\n",
      "Fe's atomic number: 26\n",
      "O's atomic weight:  15.999\n"
     ]
    }
   ],
   "source": [
    "from mendeleev import Si, Fe, O\n",
    "print(\"Si's name: \", Si.name)\n",
    "print(\"Fe's atomic number:\", Fe.atomic_number)\n",
    "print(\"O's atomic weight: \", O.atomic_weight)"
   ]
  },
  {
   "cell_type": "code",
   "execution_count": 10,
   "metadata": {},
   "outputs": [],
   "source": [
    "from mendeleev import element"
   ]
  },
  {
   "cell_type": "code",
   "execution_count": 11,
   "metadata": {},
   "outputs": [],
   "source": [
    "from mendeleev import get_table"
   ]
  },
  {
   "cell_type": "code",
   "execution_count": 12,
   "metadata": {},
   "outputs": [],
   "source": [
    "ptable = get_table('elements')"
   ]
  },
  {
   "cell_type": "code",
   "execution_count": null,
   "metadata": {},
   "outputs": [],
   "source": [
    "ptable.info()"
   ]
  },
  {
   "cell_type": "code",
   "execution_count": 14,
   "metadata": {},
   "outputs": [],
   "source": [
    "cols = ['atomic_number', 'symbol', 'atomic_radius', 'en_pauling', 'block', 'vdw_radius_mm3']"
   ]
  },
  {
   "cell_type": "code",
   "execution_count": 15,
   "metadata": {},
   "outputs": [
    {
     "data": {
      "text/html": [
       "<div>\n",
       "<style scoped>\n",
       "    .dataframe tbody tr th:only-of-type {\n",
       "        vertical-align: middle;\n",
       "    }\n",
       "\n",
       "    .dataframe tbody tr th {\n",
       "        vertical-align: top;\n",
       "    }\n",
       "\n",
       "    .dataframe thead th {\n",
       "        text-align: right;\n",
       "    }\n",
       "</style>\n",
       "<table border=\"1\" class=\"dataframe\">\n",
       "  <thead>\n",
       "    <tr style=\"text-align: right;\">\n",
       "      <th></th>\n",
       "      <th>atomic_number</th>\n",
       "      <th>symbol</th>\n",
       "      <th>atomic_radius</th>\n",
       "      <th>en_pauling</th>\n",
       "      <th>block</th>\n",
       "      <th>vdw_radius_mm3</th>\n",
       "    </tr>\n",
       "  </thead>\n",
       "  <tbody>\n",
       "    <tr>\n",
       "      <th>0</th>\n",
       "      <td>1</td>\n",
       "      <td>H</td>\n",
       "      <td>79.0</td>\n",
       "      <td>2.20</td>\n",
       "      <td>s</td>\n",
       "      <td>162.0</td>\n",
       "    </tr>\n",
       "    <tr>\n",
       "      <th>1</th>\n",
       "      <td>2</td>\n",
       "      <td>He</td>\n",
       "      <td>NaN</td>\n",
       "      <td>NaN</td>\n",
       "      <td>s</td>\n",
       "      <td>153.0</td>\n",
       "    </tr>\n",
       "    <tr>\n",
       "      <th>2</th>\n",
       "      <td>3</td>\n",
       "      <td>Li</td>\n",
       "      <td>155.0</td>\n",
       "      <td>0.98</td>\n",
       "      <td>s</td>\n",
       "      <td>255.0</td>\n",
       "    </tr>\n",
       "    <tr>\n",
       "      <th>3</th>\n",
       "      <td>4</td>\n",
       "      <td>Be</td>\n",
       "      <td>112.0</td>\n",
       "      <td>1.57</td>\n",
       "      <td>s</td>\n",
       "      <td>223.0</td>\n",
       "    </tr>\n",
       "    <tr>\n",
       "      <th>4</th>\n",
       "      <td>5</td>\n",
       "      <td>B</td>\n",
       "      <td>98.0</td>\n",
       "      <td>2.04</td>\n",
       "      <td>p</td>\n",
       "      <td>215.0</td>\n",
       "    </tr>\n",
       "  </tbody>\n",
       "</table>\n",
       "</div>"
      ],
      "text/plain": [
       "   atomic_number symbol  atomic_radius  en_pauling block  vdw_radius_mm3\n",
       "0              1      H           79.0        2.20     s           162.0\n",
       "1              2     He            NaN         NaN     s           153.0\n",
       "2              3     Li          155.0        0.98     s           255.0\n",
       "3              4     Be          112.0        1.57     s           223.0\n",
       "4              5      B           98.0        2.04     p           215.0"
      ]
     },
     "execution_count": 15,
     "metadata": {},
     "output_type": "execute_result"
    }
   ],
   "source": [
    "ptable[cols].head()"
   ]
  },
  {
   "cell_type": "code",
   "execution_count": 18,
   "metadata": {},
   "outputs": [
    {
     "data": {
      "text/html": [
       "<div>\n",
       "<style scoped>\n",
       "    .dataframe tbody tr th:only-of-type {\n",
       "        vertical-align: middle;\n",
       "    }\n",
       "\n",
       "    .dataframe tbody tr th {\n",
       "        vertical-align: top;\n",
       "    }\n",
       "\n",
       "    .dataframe thead th {\n",
       "        text-align: right;\n",
       "    }\n",
       "</style>\n",
       "<table border=\"1\" class=\"dataframe\">\n",
       "  <thead>\n",
       "    <tr style=\"text-align: right;\">\n",
       "      <th></th>\n",
       "      <th>atomic_number</th>\n",
       "      <th>atomic_radius</th>\n",
       "      <th>en_pauling</th>\n",
       "      <th>vdw_radius_mm3</th>\n",
       "    </tr>\n",
       "  </thead>\n",
       "  <tbody>\n",
       "    <tr>\n",
       "      <th>count</th>\n",
       "      <td>118.000000</td>\n",
       "      <td>88.000000</td>\n",
       "      <td>85.000000</td>\n",
       "      <td>94.000000</td>\n",
       "    </tr>\n",
       "    <tr>\n",
       "      <th>mean</th>\n",
       "      <td>59.500000</td>\n",
       "      <td>169.397727</td>\n",
       "      <td>1.748588</td>\n",
       "      <td>248.468085</td>\n",
       "    </tr>\n",
       "    <tr>\n",
       "      <th>std</th>\n",
       "      <td>34.207699</td>\n",
       "      <td>49.810108</td>\n",
       "      <td>0.634442</td>\n",
       "      <td>36.017828</td>\n",
       "    </tr>\n",
       "    <tr>\n",
       "      <th>min</th>\n",
       "      <td>1.000000</td>\n",
       "      <td>79.000000</td>\n",
       "      <td>0.700000</td>\n",
       "      <td>153.000000</td>\n",
       "    </tr>\n",
       "    <tr>\n",
       "      <th>25%</th>\n",
       "      <td>30.250000</td>\n",
       "      <td>137.000000</td>\n",
       "      <td>1.240000</td>\n",
       "      <td>229.000000</td>\n",
       "    </tr>\n",
       "    <tr>\n",
       "      <th>50%</th>\n",
       "      <td>59.500000</td>\n",
       "      <td>160.000000</td>\n",
       "      <td>1.700000</td>\n",
       "      <td>244.000000</td>\n",
       "    </tr>\n",
       "    <tr>\n",
       "      <th>75%</th>\n",
       "      <td>88.750000</td>\n",
       "      <td>181.000000</td>\n",
       "      <td>2.160000</td>\n",
       "      <td>269.250000</td>\n",
       "    </tr>\n",
       "    <tr>\n",
       "      <th>max</th>\n",
       "      <td>118.000000</td>\n",
       "      <td>299.000000</td>\n",
       "      <td>3.980000</td>\n",
       "      <td>364.000000</td>\n",
       "    </tr>\n",
       "  </tbody>\n",
       "</table>\n",
       "</div>"
      ],
      "text/plain": [
       "       atomic_number  atomic_radius  en_pauling  vdw_radius_mm3\n",
       "count     118.000000      88.000000   85.000000       94.000000\n",
       "mean       59.500000     169.397727    1.748588      248.468085\n",
       "std        34.207699      49.810108    0.634442       36.017828\n",
       "min         1.000000      79.000000    0.700000      153.000000\n",
       "25%        30.250000     137.000000    1.240000      229.000000\n",
       "50%        59.500000     160.000000    1.700000      244.000000\n",
       "75%        88.750000     181.000000    2.160000      269.250000\n",
       "max       118.000000     299.000000    3.980000      364.000000"
      ]
     },
     "execution_count": 18,
     "metadata": {},
     "output_type": "execute_result"
    }
   ],
   "source": [
    "ptable[cols].describe()"
   ]
  },
  {
   "cell_type": "code",
   "execution_count": 19,
   "metadata": {},
   "outputs": [],
   "source": [
    "isotopes = get_table('isotopes', index_col='id')"
   ]
  },
  {
   "cell_type": "code",
   "execution_count": 20,
   "metadata": {},
   "outputs": [
    {
     "name": "stdout",
     "output_type": "stream",
     "text": [
      "<class 'pandas.core.frame.DataFrame'>\n",
      "Int64Index: 406 entries, 1 to 406\n",
      "Data columns (total 11 columns):\n",
      "atomic_number        406 non-null int64\n",
      "mass                 377 non-null float64\n",
      "abundance            288 non-null float64\n",
      "mass_number          406 non-null int64\n",
      "mass_uncertainty     377 non-null float64\n",
      "is_radioactive       406 non-null bool\n",
      "half_life            121 non-null float64\n",
      "half_life_unit       85 non-null object\n",
      "spin                 323 non-null float64\n",
      "g_factor             323 non-null float64\n",
      "quadrupole_moment    320 non-null float64\n",
      "dtypes: bool(1), float64(7), int64(2), object(1)\n",
      "memory usage: 35.3+ KB\n"
     ]
    }
   ],
   "source": [
    "isotopes.info()"
   ]
  },
  {
   "cell_type": "code",
   "execution_count": 21,
   "metadata": {},
   "outputs": [],
   "source": [
    "import pandas as pd"
   ]
  },
  {
   "cell_type": "code",
   "execution_count": 22,
   "metadata": {},
   "outputs": [],
   "source": [
    "merged = pd.merge(ptable[cols], isotopes, how='outer', on='atomic_number')"
   ]
  },
  {
   "cell_type": "code",
   "execution_count": 23,
   "metadata": {},
   "outputs": [
    {
     "name": "stdout",
     "output_type": "stream",
     "text": [
      "<class 'pandas.core.frame.DataFrame'>\n",
      "Int64Index: 406 entries, 0 to 405\n",
      "Data columns (total 16 columns):\n",
      "atomic_number        406 non-null int64\n",
      "symbol               406 non-null object\n",
      "atomic_radius        325 non-null float64\n",
      "en_pauling           313 non-null float64\n",
      "block                406 non-null object\n",
      "vdw_radius_mm3       350 non-null float64\n",
      "mass                 377 non-null float64\n",
      "abundance            288 non-null float64\n",
      "mass_number          406 non-null int64\n",
      "mass_uncertainty     377 non-null float64\n",
      "is_radioactive       406 non-null bool\n",
      "half_life            121 non-null float64\n",
      "half_life_unit       85 non-null object\n",
      "spin                 323 non-null float64\n",
      "g_factor             323 non-null float64\n",
      "quadrupole_moment    320 non-null float64\n",
      "dtypes: bool(1), float64(10), int64(2), object(3)\n",
      "memory usage: 51.1+ KB\n"
     ]
    }
   ],
   "source": [
    "merged.info()"
   ]
  },
  {
   "cell_type": "code",
   "execution_count": 24,
   "metadata": {},
   "outputs": [
    {
     "data": {
      "text/html": [
       "<div>\n",
       "<style scoped>\n",
       "    .dataframe tbody tr th:only-of-type {\n",
       "        vertical-align: middle;\n",
       "    }\n",
       "\n",
       "    .dataframe tbody tr th {\n",
       "        vertical-align: top;\n",
       "    }\n",
       "\n",
       "    .dataframe thead th {\n",
       "        text-align: right;\n",
       "    }\n",
       "</style>\n",
       "<table border=\"1\" class=\"dataframe\">\n",
       "  <thead>\n",
       "    <tr style=\"text-align: right;\">\n",
       "      <th></th>\n",
       "      <th>atomic_number</th>\n",
       "      <th>symbol</th>\n",
       "      <th>atomic_radius</th>\n",
       "      <th>en_pauling</th>\n",
       "      <th>block</th>\n",
       "      <th>vdw_radius_mm3</th>\n",
       "      <th>mass</th>\n",
       "      <th>abundance</th>\n",
       "      <th>mass_number</th>\n",
       "      <th>mass_uncertainty</th>\n",
       "      <th>is_radioactive</th>\n",
       "      <th>half_life</th>\n",
       "      <th>half_life_unit</th>\n",
       "      <th>spin</th>\n",
       "      <th>g_factor</th>\n",
       "      <th>quadrupole_moment</th>\n",
       "    </tr>\n",
       "  </thead>\n",
       "  <tbody>\n",
       "    <tr>\n",
       "      <th>0</th>\n",
       "      <td>1</td>\n",
       "      <td>H</td>\n",
       "      <td>79.0</td>\n",
       "      <td>2.2</td>\n",
       "      <td>s</td>\n",
       "      <td>162.0</td>\n",
       "      <td>1.007825</td>\n",
       "      <td>0.999720</td>\n",
       "      <td>1</td>\n",
       "      <td>6.000000e-10</td>\n",
       "      <td>False</td>\n",
       "      <td>NaN</td>\n",
       "      <td>None</td>\n",
       "      <td>0.5</td>\n",
       "      <td>5.585695</td>\n",
       "      <td>0.00000</td>\n",
       "    </tr>\n",
       "    <tr>\n",
       "      <th>1</th>\n",
       "      <td>1</td>\n",
       "      <td>H</td>\n",
       "      <td>79.0</td>\n",
       "      <td>2.2</td>\n",
       "      <td>s</td>\n",
       "      <td>162.0</td>\n",
       "      <td>2.014102</td>\n",
       "      <td>0.000280</td>\n",
       "      <td>2</td>\n",
       "      <td>8.000000e-10</td>\n",
       "      <td>False</td>\n",
       "      <td>NaN</td>\n",
       "      <td>None</td>\n",
       "      <td>1.0</td>\n",
       "      <td>0.857438</td>\n",
       "      <td>0.00286</td>\n",
       "    </tr>\n",
       "    <tr>\n",
       "      <th>2</th>\n",
       "      <td>1</td>\n",
       "      <td>H</td>\n",
       "      <td>79.0</td>\n",
       "      <td>2.2</td>\n",
       "      <td>s</td>\n",
       "      <td>162.0</td>\n",
       "      <td>NaN</td>\n",
       "      <td>NaN</td>\n",
       "      <td>3</td>\n",
       "      <td>NaN</td>\n",
       "      <td>True</td>\n",
       "      <td>NaN</td>\n",
       "      <td>None</td>\n",
       "      <td>0.5</td>\n",
       "      <td>5.957994</td>\n",
       "      <td>0.00000</td>\n",
       "    </tr>\n",
       "    <tr>\n",
       "      <th>3</th>\n",
       "      <td>2</td>\n",
       "      <td>He</td>\n",
       "      <td>NaN</td>\n",
       "      <td>NaN</td>\n",
       "      <td>s</td>\n",
       "      <td>153.0</td>\n",
       "      <td>3.016029</td>\n",
       "      <td>0.000002</td>\n",
       "      <td>3</td>\n",
       "      <td>2.000000e-08</td>\n",
       "      <td>False</td>\n",
       "      <td>NaN</td>\n",
       "      <td>None</td>\n",
       "      <td>0.5</td>\n",
       "      <td>-4.254995</td>\n",
       "      <td>0.00000</td>\n",
       "    </tr>\n",
       "    <tr>\n",
       "      <th>4</th>\n",
       "      <td>2</td>\n",
       "      <td>He</td>\n",
       "      <td>NaN</td>\n",
       "      <td>NaN</td>\n",
       "      <td>s</td>\n",
       "      <td>153.0</td>\n",
       "      <td>4.002603</td>\n",
       "      <td>0.999998</td>\n",
       "      <td>4</td>\n",
       "      <td>4.000000e-10</td>\n",
       "      <td>False</td>\n",
       "      <td>NaN</td>\n",
       "      <td>None</td>\n",
       "      <td>0.0</td>\n",
       "      <td>0.000000</td>\n",
       "      <td>0.00000</td>\n",
       "    </tr>\n",
       "  </tbody>\n",
       "</table>\n",
       "</div>"
      ],
      "text/plain": [
       "   atomic_number symbol  atomic_radius  en_pauling block  vdw_radius_mm3  \\\n",
       "0              1      H           79.0         2.2     s           162.0   \n",
       "1              1      H           79.0         2.2     s           162.0   \n",
       "2              1      H           79.0         2.2     s           162.0   \n",
       "3              2     He            NaN         NaN     s           153.0   \n",
       "4              2     He            NaN         NaN     s           153.0   \n",
       "\n",
       "       mass  abundance  mass_number  mass_uncertainty  is_radioactive  \\\n",
       "0  1.007825   0.999720            1      6.000000e-10           False   \n",
       "1  2.014102   0.000280            2      8.000000e-10           False   \n",
       "2       NaN        NaN            3               NaN            True   \n",
       "3  3.016029   0.000002            3      2.000000e-08           False   \n",
       "4  4.002603   0.999998            4      4.000000e-10           False   \n",
       "\n",
       "   half_life half_life_unit  spin  g_factor  quadrupole_moment  \n",
       "0        NaN           None   0.5  5.585695            0.00000  \n",
       "1        NaN           None   1.0  0.857438            0.00286  \n",
       "2        NaN           None   0.5  5.957994            0.00000  \n",
       "3        NaN           None   0.5 -4.254995            0.00000  \n",
       "4        NaN           None   0.0  0.000000            0.00000  "
      ]
     },
     "execution_count": 24,
     "metadata": {},
     "output_type": "execute_result"
    }
   ],
   "source": [
    "merged.head()"
   ]
  },
  {
   "cell_type": "code",
   "execution_count": 25,
   "metadata": {},
   "outputs": [
    {
     "data": {
      "text/html": [
       "<div>\n",
       "<style scoped>\n",
       "    .dataframe tbody tr th:only-of-type {\n",
       "        vertical-align: middle;\n",
       "    }\n",
       "\n",
       "    .dataframe tbody tr th {\n",
       "        vertical-align: top;\n",
       "    }\n",
       "\n",
       "    .dataframe thead th {\n",
       "        text-align: right;\n",
       "    }\n",
       "</style>\n",
       "<table border=\"1\" class=\"dataframe\">\n",
       "  <thead>\n",
       "    <tr style=\"text-align: right;\">\n",
       "      <th></th>\n",
       "      <th>atomic_number</th>\n",
       "      <th>symbol</th>\n",
       "      <th>atomic_radius</th>\n",
       "      <th>en_pauling</th>\n",
       "      <th>block</th>\n",
       "      <th>vdw_radius_mm3</th>\n",
       "      <th>mass</th>\n",
       "      <th>abundance</th>\n",
       "      <th>mass_number</th>\n",
       "      <th>mass_uncertainty</th>\n",
       "      <th>is_radioactive</th>\n",
       "      <th>half_life</th>\n",
       "      <th>half_life_unit</th>\n",
       "      <th>spin</th>\n",
       "      <th>g_factor</th>\n",
       "      <th>quadrupole_moment</th>\n",
       "    </tr>\n",
       "  </thead>\n",
       "  <tbody>\n",
       "    <tr>\n",
       "      <th>28</th>\n",
       "      <td>14</td>\n",
       "      <td>Si</td>\n",
       "      <td>132.0</td>\n",
       "      <td>1.9</td>\n",
       "      <td>p</td>\n",
       "      <td>229.0</td>\n",
       "      <td>27.976927</td>\n",
       "      <td>0.92191</td>\n",
       "      <td>28</td>\n",
       "      <td>3.000000e-09</td>\n",
       "      <td>False</td>\n",
       "      <td>NaN</td>\n",
       "      <td>None</td>\n",
       "      <td>0.0</td>\n",
       "      <td>0.00000</td>\n",
       "      <td>0.0</td>\n",
       "    </tr>\n",
       "    <tr>\n",
       "      <th>29</th>\n",
       "      <td>14</td>\n",
       "      <td>Si</td>\n",
       "      <td>132.0</td>\n",
       "      <td>1.9</td>\n",
       "      <td>p</td>\n",
       "      <td>229.0</td>\n",
       "      <td>28.976495</td>\n",
       "      <td>0.04699</td>\n",
       "      <td>29</td>\n",
       "      <td>3.000000e-09</td>\n",
       "      <td>False</td>\n",
       "      <td>NaN</td>\n",
       "      <td>None</td>\n",
       "      <td>0.5</td>\n",
       "      <td>-1.11058</td>\n",
       "      <td>0.0</td>\n",
       "    </tr>\n",
       "    <tr>\n",
       "      <th>30</th>\n",
       "      <td>14</td>\n",
       "      <td>Si</td>\n",
       "      <td>132.0</td>\n",
       "      <td>1.9</td>\n",
       "      <td>p</td>\n",
       "      <td>229.0</td>\n",
       "      <td>29.973770</td>\n",
       "      <td>0.03110</td>\n",
       "      <td>30</td>\n",
       "      <td>2.000000e-08</td>\n",
       "      <td>False</td>\n",
       "      <td>NaN</td>\n",
       "      <td>None</td>\n",
       "      <td>0.0</td>\n",
       "      <td>0.00000</td>\n",
       "      <td>0.0</td>\n",
       "    </tr>\n",
       "  </tbody>\n",
       "</table>\n",
       "</div>"
      ],
      "text/plain": [
       "    atomic_number symbol  atomic_radius  en_pauling block  vdw_radius_mm3  \\\n",
       "28             14     Si          132.0         1.9     p           229.0   \n",
       "29             14     Si          132.0         1.9     p           229.0   \n",
       "30             14     Si          132.0         1.9     p           229.0   \n",
       "\n",
       "         mass  abundance  mass_number  mass_uncertainty  is_radioactive  \\\n",
       "28  27.976927    0.92191           28      3.000000e-09           False   \n",
       "29  28.976495    0.04699           29      3.000000e-09           False   \n",
       "30  29.973770    0.03110           30      2.000000e-08           False   \n",
       "\n",
       "    half_life half_life_unit  spin  g_factor  quadrupole_moment  \n",
       "28        NaN           None   0.0   0.00000                0.0  \n",
       "29        NaN           None   0.5  -1.11058                0.0  \n",
       "30        NaN           None   0.0   0.00000                0.0  "
      ]
     },
     "execution_count": 25,
     "metadata": {},
     "output_type": "execute_result"
    }
   ],
   "source": [
    "merged[merged['symbol'] == 'Si']"
   ]
  },
  {
   "cell_type": "code",
   "execution_count": 26,
   "metadata": {},
   "outputs": [
    {
     "name": "stdout",
     "output_type": "stream",
     "text": [
      "Collecting version_information\n",
      "  Downloading https://files.pythonhosted.org/packages/ff/b0/6088e15b9ac43a08ccd300d68e0b900a20cf62077596c11ad11dd8cc9e4b/version_information-1.0.3.tar.gz\n",
      "Building wheels for collected packages: version-information\n",
      "  Building wheel for version-information (setup.py) ... \u001b[?25ldone\n",
      "\u001b[?25h  Stored in directory: /home/jovyan/.cache/pip/wheels/1f/4c/b3/1976ac11dbd802723b564de1acaa453a72c36c95827e576321\n",
      "Successfully built version-information\n",
      "Installing collected packages: version-information\n",
      "Successfully installed version-information-1.0.3\n"
     ]
    }
   ],
   "source": [
    "!pip install version_information"
   ]
  },
  {
   "cell_type": "code",
   "execution_count": 28,
   "metadata": {},
   "outputs": [],
   "source": [
    "%load_ext version_information"
   ]
  },
  {
   "cell_type": "code",
   "execution_count": 29,
   "metadata": {},
   "outputs": [
    {
     "data": {
      "application/json": {
       "Software versions": [
        {
         "module": "Python",
         "version": "3.7.3 64bit [GCC 7.3.0]"
        },
        {
         "module": "IPython",
         "version": "7.5.0"
        },
        {
         "module": "OS",
         "version": "Linux 4.14.91+ x86_64 with debian buster sid"
        },
        {
         "module": "mendeleev",
         "version": "0.4.5"
        },
        {
         "module": "sqlalchemy",
         "version": "1.3.4"
        }
       ]
      },
      "text/html": [
       "<table><tr><th>Software</th><th>Version</th></tr><tr><td>Python</td><td>3.7.3 64bit [GCC 7.3.0]</td></tr><tr><td>IPython</td><td>7.5.0</td></tr><tr><td>OS</td><td>Linux 4.14.91+ x86_64 with debian buster sid</td></tr><tr><td>mendeleev</td><td>0.4.5</td></tr><tr><td>sqlalchemy</td><td>1.3.4</td></tr><tr><td colspan='2'>Fri May 31 08:24:30 2019 UTC</td></tr></table>"
      ],
      "text/latex": [
       "\\begin{tabular}{|l|l|}\\hline\n",
       "{\\bf Software} & {\\bf Version} \\\\ \\hline\\hline\n",
       "Python & 3.7.3 64bit [GCC 7.3.0] \\\\ \\hline\n",
       "IPython & 7.5.0 \\\\ \\hline\n",
       "OS & Linux 4.14.91+ x86\\_64 with debian buster sid \\\\ \\hline\n",
       "mendeleev & 0.4.5 \\\\ \\hline\n",
       "sqlalchemy & 1.3.4 \\\\ \\hline\n",
       "\\hline \\multicolumn{2}{|l|}{Fri May 31 08:24:30 2019 UTC} \\\\ \\hline\n",
       "\\end{tabular}\n"
      ],
      "text/plain": [
       "Software versions\n",
       "Python 3.7.3 64bit [GCC 7.3.0]\n",
       "IPython 7.5.0\n",
       "OS Linux 4.14.91+ x86_64 with debian buster sid\n",
       "mendeleev 0.4.5\n",
       "sqlalchemy 1.3.4\n",
       "Fri May 31 08:24:30 2019 UTC"
      ]
     },
     "execution_count": 29,
     "metadata": {},
     "output_type": "execute_result"
    }
   ],
   "source": [
    "%version_information mendeleev, sqlalchemy"
   ]
  },
  {
   "cell_type": "code",
   "execution_count": null,
   "metadata": {},
   "outputs": [],
   "source": []
  }
 ],
 "metadata": {
  "kernelspec": {
   "display_name": "Python 3",
   "language": "python",
   "name": "python3"
  },
  "language_info": {
   "codemirror_mode": {
    "name": "ipython",
    "version": 3
   },
   "file_extension": ".py",
   "mimetype": "text/x-python",
   "name": "python",
   "nbconvert_exporter": "python",
   "pygments_lexer": "ipython3",
   "version": "3.7.3"
  }
 },
 "nbformat": 4,
 "nbformat_minor": 2
}
