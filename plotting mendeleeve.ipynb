{
 "cells": [
  {
   "cell_type": "markdown",
   "metadata": {},
   "source": [
    "# Plotting tutorial\n",
    "\n",
    "The plotting module is based on the [Bokeh](http://bokeh.pydata.org/en/latest/) package and enables visualization of various properties of elements. The plotting in the form of periodic table is done by the `periodic_plot` function that takes a [pandas](http://pandas.pydata.org/) `DataFrame`. \n",
    "\n",
    "To embed the plots in the [jupyter notebook](http://jupyter.org/) first the `BokehJS` needs to be started."
   ]
  },
  {
   "cell_type": "code",
   "execution_count": 32,
   "metadata": {},
   "outputs": [],
   "source": [
    "%matplotlib inline"
   ]
  },
  {
   "cell_type": "code",
   "execution_count": 2,
   "metadata": {},
   "outputs": [
    {
     "name": "stdout",
     "output_type": "stream",
     "text": [
      "Collecting bokeh\n",
      "\u001b[?25l  Downloading https://files.pythonhosted.org/packages/7d/2f/de96d3f6f43cec07efc6f8f24fddf176e9a119f23aab8fe6153f2e96c6d3/bokeh-1.2.0.tar.gz (17.6MB)\n",
      "\u001b[K     |████████████████████████████████| 17.6MB 79kB/s  eta 0:00:01\n",
      "\u001b[?25hRequirement already satisfied: six>=1.5.2 in /srv/conda/envs/notebook/lib/python3.7/site-packages (from bokeh) (1.12.0)\n",
      "Collecting PyYAML>=3.10 (from bokeh)\n",
      "\u001b[?25l  Downloading https://files.pythonhosted.org/packages/9f/2c/9417b5c774792634834e730932745bc09a7d36754ca00acf1ccd1ac2594d/PyYAML-5.1.tar.gz (274kB)\n",
      "\u001b[K     |████████████████████████████████| 276kB 40.9MB/s eta 0:00:01\n",
      "\u001b[?25hRequirement already satisfied: python-dateutil>=2.1 in /srv/conda/envs/notebook/lib/python3.7/site-packages (from bokeh) (2.8.0)\n",
      "Requirement already satisfied: Jinja2>=2.7 in /srv/conda/envs/notebook/lib/python3.7/site-packages (from bokeh) (2.10.1)\n",
      "Requirement already satisfied: numpy>=1.7.1 in /srv/conda/envs/notebook/lib/python3.7/site-packages (from bokeh) (1.16.4)\n",
      "Collecting pillow>=4.0 (from bokeh)\n",
      "\u001b[?25l  Downloading https://files.pythonhosted.org/packages/c1/e6/ce127fa0ac17775bc7887c432ffe945c49ae141f01b477b7cd5e63b16bb5/Pillow-6.0.0-cp37-cp37m-manylinux1_x86_64.whl (2.0MB)\n",
      "\u001b[K     |████████████████████████████████| 2.0MB 37.6MB/s eta 0:00:01\n",
      "\u001b[?25hCollecting packaging>=16.8 (from bokeh)\n",
      "  Downloading https://files.pythonhosted.org/packages/91/32/58bc30e646e55eab8b21abf89e353f59c0cc02c417e42929f4a9546e1b1d/packaging-19.0-py2.py3-none-any.whl\n",
      "Requirement already satisfied: tornado>=4.3 in /srv/conda/envs/notebook/lib/python3.7/site-packages (from bokeh) (6.0.2)\n",
      "Requirement already satisfied: MarkupSafe>=0.23 in /srv/conda/envs/notebook/lib/python3.7/site-packages (from Jinja2>=2.7->bokeh) (1.1.1)\n",
      "Collecting pyparsing>=2.0.2 (from packaging>=16.8->bokeh)\n",
      "\u001b[?25l  Downloading https://files.pythonhosted.org/packages/dd/d9/3ec19e966301a6e25769976999bd7bbe552016f0d32b577dc9d63d2e0c49/pyparsing-2.4.0-py2.py3-none-any.whl (62kB)\n",
      "\u001b[K     |████████████████████████████████| 71kB 4.1MB/s eta 0:00:011\n",
      "\u001b[?25hBuilding wheels for collected packages: bokeh, PyYAML\n",
      "  Building wheel for bokeh (setup.py) ... \u001b[?25ldone\n",
      "\u001b[?25h  Stored in directory: /home/jovyan/.cache/pip/wheels/96/8c/18/ab51f7028839c79738fc7b21c7d660f3d59e7748eb903fbe15\n",
      "  Building wheel for PyYAML (setup.py) ... \u001b[?25ldone\n",
      "\u001b[?25h  Stored in directory: /home/jovyan/.cache/pip/wheels/ad/56/bc/1522f864feb2a358ea6f1a92b4798d69ac783a28e80567a18b\n",
      "Successfully built bokeh PyYAML\n",
      "Installing collected packages: PyYAML, pillow, pyparsing, packaging, bokeh\n",
      "Successfully installed PyYAML-5.1 bokeh-1.2.0 packaging-19.0 pillow-6.0.0 pyparsing-2.4.0\n"
     ]
    }
   ],
   "source": [
    "! pip install bokeh"
   ]
  },
  {
   "cell_type": "code",
   "execution_count": 6,
   "metadata": {},
   "outputs": [
    {
     "name": "stdout",
     "output_type": "stream",
     "text": [
      "Collecting seaborn\n",
      "\u001b[?25l  Downloading https://files.pythonhosted.org/packages/a8/76/220ba4420459d9c4c9c9587c6ce607bf56c25b3d3d2de62056efe482dadc/seaborn-0.9.0-py3-none-any.whl (208kB)\n",
      "\u001b[K     |████████████████████████████████| 215kB 3.3MB/s eta 0:00:01\n",
      "\u001b[?25hRequirement already satisfied: numpy>=1.9.3 in /srv/conda/envs/notebook/lib/python3.7/site-packages (from seaborn) (1.16.4)\n",
      "Requirement already satisfied: pandas>=0.15.2 in /srv/conda/envs/notebook/lib/python3.7/site-packages (from seaborn) (0.24.2)\n",
      "Collecting scipy>=0.14.0 (from seaborn)\n",
      "\u001b[?25l  Downloading https://files.pythonhosted.org/packages/5d/bd/c0feba81fb60e231cf40fc8a322ed5873c90ef7711795508692b1481a4ae/scipy-1.3.0-cp37-cp37m-manylinux1_x86_64.whl (25.2MB)\n",
      "\u001b[K     |████████████████████████████████| 25.2MB 56kB/s  eta 0:00:011��███             | 15.0MB 4.8MB/s eta 0:00:03\n",
      "\u001b[?25hCollecting matplotlib>=1.4.3 (from seaborn)\n",
      "\u001b[?25l  Downloading https://files.pythonhosted.org/packages/dc/cb/a34046e75c9a4ecaf426ae0d0eada97078c8ce4bbe3250940b1a312a1385/matplotlib-3.1.0-cp37-cp37m-manylinux1_x86_64.whl (13.1MB)\n",
      "\u001b[K     |████████████████████████████████| 13.1MB 125kB/s eta 0:00:01    |████                            | 1.6MB 6.0MB/s eta 0:00:02ta 0:00:02\n",
      "\u001b[?25hRequirement already satisfied: python-dateutil>=2.5.0 in /srv/conda/envs/notebook/lib/python3.7/site-packages (from pandas>=0.15.2->seaborn) (2.8.0)\n",
      "Requirement already satisfied: pytz>=2011k in /srv/conda/envs/notebook/lib/python3.7/site-packages (from pandas>=0.15.2->seaborn) (2019.1)\n",
      "Requirement already satisfied: pyparsing!=2.0.4,!=2.1.2,!=2.1.6,>=2.0.1 in /srv/conda/envs/notebook/lib/python3.7/site-packages (from matplotlib>=1.4.3->seaborn) (2.4.0)\n",
      "Collecting cycler>=0.10 (from matplotlib>=1.4.3->seaborn)\n",
      "  Downloading https://files.pythonhosted.org/packages/f7/d2/e07d3ebb2bd7af696440ce7e754c59dd546ffe1bbe732c8ab68b9c834e61/cycler-0.10.0-py2.py3-none-any.whl\n",
      "Collecting kiwisolver>=1.0.1 (from matplotlib>=1.4.3->seaborn)\n",
      "\u001b[?25l  Downloading https://files.pythonhosted.org/packages/93/f8/518fb0bb89860eea6ff1b96483fbd9236d5ee991485d0f3eceff1770f654/kiwisolver-1.1.0-cp37-cp37m-manylinux1_x86_64.whl (90kB)\n",
      "\u001b[K     |████████████████████████████████| 92kB 17.5MB/s eta 0:00:01\n",
      "\u001b[?25hRequirement already satisfied: six>=1.5 in /srv/conda/envs/notebook/lib/python3.7/site-packages (from python-dateutil>=2.5.0->pandas>=0.15.2->seaborn) (1.12.0)\n",
      "Requirement already satisfied: setuptools in /srv/conda/envs/notebook/lib/python3.7/site-packages (from kiwisolver>=1.0.1->matplotlib>=1.4.3->seaborn) (41.0.1)\n",
      "Installing collected packages: scipy, cycler, kiwisolver, matplotlib, seaborn\n",
      "Successfully installed cycler-0.10.0 kiwisolver-1.1.0 matplotlib-3.1.0 scipy-1.3.0 seaborn-0.9.0\n"
     ]
    }
   ],
   "source": [
    "!pip install seaborn"
   ]
  },
  {
   "cell_type": "code",
   "execution_count": 3,
   "metadata": {},
   "outputs": [],
   "source": [
    "from bokeh.plotting import output_notebook, output_file"
   ]
  },
  {
   "cell_type": "code",
   "execution_count": 4,
   "metadata": {},
   "outputs": [],
   "source": [
    "#output_notebook()"
   ]
  },
  {
   "cell_type": "markdown",
   "metadata": {},
   "source": [
    "Now we can get the data from `mendeleev` as a pandas `DataFrame` through `get_table` method"
   ]
  },
  {
   "cell_type": "code",
   "execution_count": 7,
   "metadata": {},
   "outputs": [],
   "source": [
    "from mendeleev import get_table\n",
    "from mendeleev.plotting import periodic_plot"
   ]
  },
  {
   "cell_type": "code",
   "execution_count": 8,
   "metadata": {},
   "outputs": [],
   "source": [
    "ptable = get_table('elements')"
   ]
  },
  {
   "cell_type": "markdown",
   "metadata": {},
   "source": [
    "To plot the default table pass the `ptable` to the `periodic_plot` function"
   ]
  },
  {
   "cell_type": "code",
   "execution_count": 9,
   "metadata": {},
   "outputs": [],
   "source": [
    "periodic_plot(ptable)"
   ]
  },
  {
   "cell_type": "markdown",
   "metadata": {},
   "source": [
    "`mendeleev` stores also two color schemes for atoms that are frequently used for visualizing molecular structures. One set is stored in the `cpk_color` column and refers to [CPK](https://en.wikipedia.org/wiki/CPK_coloring) coloring, another is stored in `jmol_color` column and is used by the [Jmol program](http://jmol.sourceforge.net/jscolors/), finally there is also coloring scheme from [MOLCAS GV](http://www.molcas.org/GV/) program store in the `molcas_gv_color` attribute. They can be displayed either by hovering of the element to display a tooltip or used directly to color the element cells."
   ]
  },
  {
   "cell_type": "code",
   "execution_count": 34,
   "metadata": {},
   "outputs": [],
   "source": [
    "periodic_plot(ptable, colorby='jmol_color', title=\"JMol Colors\", decimals=3)"
   ]
  },
  {
   "cell_type": "code",
   "execution_count": 11,
   "metadata": {},
   "outputs": [],
   "source": [
    "periodic_plot(ptable, colorby='cpk_color', title='CPK Colors')"
   ]
  },
  {
   "cell_type": "code",
   "execution_count": 12,
   "metadata": {},
   "outputs": [],
   "source": [
    "periodic_plot(ptable, colorby='molcas_gv_color', title='MOLCAS GV Colors')"
   ]
  },
  {
   "cell_type": "markdown",
   "metadata": {},
   "source": [
    "You can also add a custom color map by assigning color to all the elments. This can be done by creating a custom column in the `DataFrame` and then using `colorby` argument to specify which column contains colors. Let's try to color the elements according to the block they belong to."
   ]
  },
  {
   "cell_type": "code",
   "execution_count": 13,
   "metadata": {},
   "outputs": [],
   "source": [
    "import seaborn as sns\n",
    "from matplotlib import colors\n",
    "blockcmap = {b : colors.rgb2hex(c) for b, c in zip(['s', 'p', 'd', 'f'], sns.color_palette('deep'))}\n",
    "ptable['block_color'] = ptable['block'].map(blockcmap)\n",
    "periodic_plot(ptable, colorby='block_color')"
   ]
  },
  {
   "cell_type": "markdown",
   "metadata": {},
   "source": [
    "# Visualizing properties \n",
    "\n",
    "Any of the properties in `ptable` can now be visualized. As a first example lets see the `covalent_radius_pyykko` with the detault colormap, which is `RdBu_r`"
   ]
  },
  {
   "cell_type": "code",
   "execution_count": 36,
   "metadata": {},
   "outputs": [],
   "source": [
    "periodic_plot(ptable, attribute='covalent_radius_pyykko', colorby='attribute', title=\"Covalent Radii of Pyykko\")"
   ]
  },
  {
   "cell_type": "markdown",
   "metadata": {},
   "source": [
    "The colormap can be changed using the `cmap` argument to any of the [standard colormaps](http://matplotlib.org/users/colormaps.html)"
   ]
  },
  {
   "cell_type": "code",
   "execution_count": 15,
   "metadata": {},
   "outputs": [],
   "source": [
    "periodic_plot(ptable, attribute='covalent_radius_pyykko', colorby='attribute',\n",
    "              cmap='spring', title=\"Covalent Radii of Pyykko\")"
   ]
  },
  {
   "cell_type": "markdown",
   "metadata": {},
   "source": [
    "If you have [matplotlib](http://matplotlib.org/) 1.5.0 or higher you can try our the new colormaps: `viridis`, `plasma`, `inferno` and `magma`."
   ]
  },
  {
   "cell_type": "code",
   "execution_count": 16,
   "metadata": {},
   "outputs": [],
   "source": [
    "periodic_plot(ptable, attribute='covalent_radius_pyykko', colorby='attribute',\n",
    "              cmap='inferno', title=\"Covalent Radii of Pyykko\")"
   ]
  },
  {
   "cell_type": "markdown",
   "metadata": {},
   "source": [
    "To see the available properties you can access the `DataFrame`'s `columns` attribute"
   ]
  },
  {
   "cell_type": "code",
   "execution_count": 17,
   "metadata": {},
   "outputs": [
    {
     "data": {
      "text/plain": [
       "Index(['annotation', 'atomic_number', 'atomic_radius', 'atomic_volume',\n",
       "       'block', 'boiling_point', 'density', 'description',\n",
       "       'dipole_polarizability', 'electron_affinity',\n",
       "       'electronic_configuration', 'evaporation_heat', 'fusion_heat',\n",
       "       'group_id', 'lattice_constant', 'lattice_structure', 'melting_point',\n",
       "       'name', 'period', 'series_id', 'specific_heat', 'symbol',\n",
       "       'thermal_conductivity', 'vdw_radius', 'covalent_radius_cordero',\n",
       "       'covalent_radius_pyykko', 'en_pauling', 'en_allen', 'jmol_color',\n",
       "       'cpk_color', 'proton_affinity', 'gas_basicity', 'heat_of_formation',\n",
       "       'c6', 'covalent_radius_bragg', 'covalent_radius_slater',\n",
       "       'vdw_radius_bondi', 'vdw_radius_truhlar', 'vdw_radius_rt',\n",
       "       'vdw_radius_batsanov', 'vdw_radius_dreiding', 'vdw_radius_uff',\n",
       "       'vdw_radius_mm3', 'abundance_crust', 'abundance_sea', 'molcas_gv_color',\n",
       "       'en_ghosh', 'vdw_radius_alvarez', 'c6_gb', 'atomic_weight',\n",
       "       'atomic_weight_uncertainty', 'is_monoisotopic', 'is_radioactive', 'cas',\n",
       "       'atomic_radius_rahm', 'geochemical_class', 'goldschmidt_class',\n",
       "       'metallic_radius', 'metallic_radius_c12',\n",
       "       'covalent_radius_pyykko_double', 'covalent_radius_pyykko_triple',\n",
       "       'discoverers', 'discovery_year', 'discovery_location', 'name_origin',\n",
       "       'sources', 'uses', 'mendeleev_number', 'dipole_polarizability_unc',\n",
       "       'block_color'],\n",
       "      dtype='object')"
      ]
     },
     "execution_count": 17,
     "metadata": {},
     "output_type": "execute_result"
    }
   ],
   "source": [
    "ptable.columns"
   ]
  },
  {
   "cell_type": "markdown",
   "metadata": {},
   "source": [
    "Lets try `atomic_volume`"
   ]
  },
  {
   "cell_type": "code",
   "execution_count": 18,
   "metadata": {},
   "outputs": [
    {
     "name": "stderr",
     "output_type": "stream",
     "text": [
      "/srv/conda/envs/notebook/lib/python3.7/site-packages/matplotlib/colors.py:479: RuntimeWarning: invalid value encountered in less\n",
      "  xa[xa < 0] = -1\n"
     ]
    }
   ],
   "source": [
    "periodic_plot(ptable, attribute='atomic_volume', colorby='attribute', title='Atomic Volume')"
   ]
  },
  {
   "cell_type": "code",
   "execution_count": 20,
   "metadata": {},
   "outputs": [],
   "source": [
    "periodic_plot(ptable, attribute='en_pauling', colorby='attribute',\n",
    "              title=\"Pauling's Electronegativity\", cmap='viridis')"
   ]
  },
  {
   "cell_type": "markdown",
   "metadata": {},
   "source": [
    "# Custom properties\n",
    "\n",
    "You can also create your own properties to be displayed using [pandas](http://pandas.pydata.org/) awesome methods for manipulating data. For example let's consider the difference of electronegativity between every element and the Oxygen atom. To calculate the values we will use Allen scale this time and call our new value `ENX-ENO`."
   ]
  },
  {
   "cell_type": "code",
   "execution_count": 21,
   "metadata": {},
   "outputs": [],
   "source": [
    "ptable.loc[:, 'ENX-ENO'] =  ptable.loc[ptable['symbol'] == 'O', 'en_allen'].values - ptable.loc[:, 'en_allen']"
   ]
  },
  {
   "cell_type": "code",
   "execution_count": 22,
   "metadata": {},
   "outputs": [],
   "source": [
    "periodic_plot(ptable, attribute='ENX-ENO', colorby='attribute',\n",
    "              cmap='viridis', title='Allen Electronegativity wrt. Oxygen')"
   ]
  },
  {
   "cell_type": "markdown",
   "metadata": {},
   "source": [
    "As a second example let's consider a difference between the `covalent_radius_slater` and `covalent_radius_pyykko` values"
   ]
  },
  {
   "cell_type": "code",
   "execution_count": 23,
   "metadata": {},
   "outputs": [],
   "source": [
    "ptable['cov_rad_diff'] = ptable['covalent_radius_slater'] - ptable['covalent_radius_pyykko']"
   ]
  },
  {
   "cell_type": "code",
   "execution_count": 24,
   "metadata": {},
   "outputs": [],
   "source": [
    "periodic_plot(ptable, attribute='cov_rad_diff', colorby='attribute',\n",
    "              title='Covalent Radii Difference', cmap='viridis')"
   ]
  },
  {
   "cell_type": "markdown",
   "metadata": {},
   "source": [
    "# Wide 32-column version\n",
    "\n",
    "The `periodic_plot` function can also present the periodic table in the so-called wide format with the *f*-block between the *s*- and *d*-blocks resulting in 32 columns."
   ]
  },
  {
   "cell_type": "code",
   "execution_count": 25,
   "metadata": {},
   "outputs": [],
   "source": [
    "periodic_plot(ptable, height=600, width=1500, long_version=True)"
   ]
  },
  {
   "cell_type": "code",
   "execution_count": 27,
   "metadata": {},
   "outputs": [],
   "source": [
    "%load_ext version_information"
   ]
  },
  {
   "cell_type": "code",
   "execution_count": 37,
   "metadata": {},
   "outputs": [
    {
     "data": {
      "application/json": {
       "Software versions": [
        {
         "module": "Python",
         "version": "3.7.3 64bit [GCC 7.3.0]"
        },
        {
         "module": "IPython",
         "version": "7.5.0"
        },
        {
         "module": "OS",
         "version": "Linux 4.14.91+ x86_64 with debian buster sid"
        },
        {
         "module": "mendeleev",
         "version": "0.4.5"
        },
        {
         "module": "bokeh",
         "version": "1.2.0"
        },
        {
         "module": "pandas",
         "version": "0.24.2"
        },
        {
         "module": "matplotlib",
         "version": "3.1.0"
        }
       ]
      },
      "text/html": [
       "<table><tr><th>Software</th><th>Version</th></tr><tr><td>Python</td><td>3.7.3 64bit [GCC 7.3.0]</td></tr><tr><td>IPython</td><td>7.5.0</td></tr><tr><td>OS</td><td>Linux 4.14.91+ x86_64 with debian buster sid</td></tr><tr><td>mendeleev</td><td>0.4.5</td></tr><tr><td>bokeh</td><td>1.2.0</td></tr><tr><td>pandas</td><td>0.24.2</td></tr><tr><td>matplotlib</td><td>3.1.0</td></tr><tr><td colspan='2'>Fri May 31 08:57:15 2019 UTC</td></tr></table>"
      ],
      "text/latex": [
       "\\begin{tabular}{|l|l|}\\hline\n",
       "{\\bf Software} & {\\bf Version} \\\\ \\hline\\hline\n",
       "Python & 3.7.3 64bit [GCC 7.3.0] \\\\ \\hline\n",
       "IPython & 7.5.0 \\\\ \\hline\n",
       "OS & Linux 4.14.91+ x86\\_64 with debian buster sid \\\\ \\hline\n",
       "mendeleev & 0.4.5 \\\\ \\hline\n",
       "bokeh & 1.2.0 \\\\ \\hline\n",
       "pandas & 0.24.2 \\\\ \\hline\n",
       "matplotlib & 3.1.0 \\\\ \\hline\n",
       "\\hline \\multicolumn{2}{|l|}{Fri May 31 08:57:15 2019 UTC} \\\\ \\hline\n",
       "\\end{tabular}\n"
      ],
      "text/plain": [
       "Software versions\n",
       "Python 3.7.3 64bit [GCC 7.3.0]\n",
       "IPython 7.5.0\n",
       "OS Linux 4.14.91+ x86_64 with debian buster sid\n",
       "mendeleev 0.4.5\n",
       "bokeh 1.2.0\n",
       "pandas 0.24.2\n",
       "matplotlib 3.1.0\n",
       "Fri May 31 08:57:15 2019 UTC"
      ]
     },
     "execution_count": 37,
     "metadata": {},
     "output_type": "execute_result"
    }
   ],
   "source": [
    "%version_information mendeleev, bokeh, pandas, matplotlib"
   ]
  }
 ],
 "metadata": {
  "anaconda-cloud": {},
  "kernelspec": {
   "display_name": "Python 3",
   "language": "python",
   "name": "python3"
  },
  "language_info": {
   "codemirror_mode": {
    "name": "ipython",
    "version": 3
   },
   "file_extension": ".py",
   "mimetype": "text/x-python",
   "name": "python",
   "nbconvert_exporter": "python",
   "pygments_lexer": "ipython3",
   "version": "3.7.3"
  }
 },
 "nbformat": 4,
 "nbformat_minor": 1
}
